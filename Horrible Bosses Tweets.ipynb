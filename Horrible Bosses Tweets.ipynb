{
 "cells": [
  {
   "cell_type": "code",
   "execution_count": 1,
   "id": "619ef941",
   "metadata": {},
   "outputs": [
    {
     "name": "stdout",
     "output_type": "stream",
     "text": [
      "Requirement already satisfied: snscrape in /Users/estherdokumensah/opt/anaconda3/lib/python3.8/site-packages (0.4.3.20220106)\n",
      "Requirement already satisfied: beautifulsoup4 in /Users/estherdokumensah/opt/anaconda3/lib/python3.8/site-packages (from snscrape) (4.9.3)\n",
      "Requirement already satisfied: lxml in /Users/estherdokumensah/opt/anaconda3/lib/python3.8/site-packages (from snscrape) (4.6.3)\n",
      "Requirement already satisfied: pytz in /Users/estherdokumensah/opt/anaconda3/lib/python3.8/site-packages (from snscrape) (2021.1)\n",
      "Requirement already satisfied: filelock in /Users/estherdokumensah/opt/anaconda3/lib/python3.8/site-packages (from snscrape) (3.0.12)\n",
      "Requirement already satisfied: requests[socks] in /Users/estherdokumensah/opt/anaconda3/lib/python3.8/site-packages (from snscrape) (2.25.1)\n",
      "Requirement already satisfied: soupsieve>1.2 in /Users/estherdokumensah/opt/anaconda3/lib/python3.8/site-packages (from beautifulsoup4->snscrape) (2.2.1)\n",
      "Requirement already satisfied: idna<3,>=2.5 in /Users/estherdokumensah/opt/anaconda3/lib/python3.8/site-packages (from requests[socks]->snscrape) (2.10)\n",
      "Requirement already satisfied: chardet<5,>=3.0.2 in /Users/estherdokumensah/opt/anaconda3/lib/python3.8/site-packages (from requests[socks]->snscrape) (4.0.0)\n",
      "Requirement already satisfied: urllib3<1.27,>=1.21.1 in /Users/estherdokumensah/opt/anaconda3/lib/python3.8/site-packages (from requests[socks]->snscrape) (1.26.4)\n",
      "Requirement already satisfied: certifi>=2017.4.17 in /Users/estherdokumensah/opt/anaconda3/lib/python3.8/site-packages (from requests[socks]->snscrape) (2020.12.5)\n",
      "Requirement already satisfied: PySocks!=1.5.7,>=1.5.6 in /Users/estherdokumensah/opt/anaconda3/lib/python3.8/site-packages (from requests[socks]->snscrape) (1.7.1)\n",
      "Note: you may need to restart the kernel to use updated packages.\n"
     ]
    }
   ],
   "source": [
    "pip install snscrape"
   ]
  },
  {
   "cell_type": "code",
   "execution_count": 2,
   "id": "7537c0fe",
   "metadata": {},
   "outputs": [
    {
     "name": "stdout",
     "output_type": "stream",
     "text": [
      "Requirement already satisfied: spacy in /Users/estherdokumensah/opt/anaconda3/lib/python3.8/site-packages (3.2.4)\n",
      "Requirement already satisfied: thinc<8.1.0,>=8.0.12 in /Users/estherdokumensah/opt/anaconda3/lib/python3.8/site-packages (from spacy) (8.0.15)\n",
      "Requirement already satisfied: langcodes<4.0.0,>=3.2.0 in /Users/estherdokumensah/opt/anaconda3/lib/python3.8/site-packages (from spacy) (3.3.0)\n",
      "Requirement already satisfied: tqdm<5.0.0,>=4.38.0 in /Users/estherdokumensah/opt/anaconda3/lib/python3.8/site-packages (from spacy) (4.59.0)\n",
      "Requirement already satisfied: spacy-loggers<2.0.0,>=1.0.0 in /Users/estherdokumensah/opt/anaconda3/lib/python3.8/site-packages (from spacy) (1.0.2)\n",
      "Requirement already satisfied: blis<0.8.0,>=0.4.0 in /Users/estherdokumensah/opt/anaconda3/lib/python3.8/site-packages (from spacy) (0.7.7)\n",
      "Requirement already satisfied: numpy>=1.15.0 in /Users/estherdokumensah/opt/anaconda3/lib/python3.8/site-packages (from spacy) (1.20.1)\n",
      "Requirement already satisfied: requests<3.0.0,>=2.13.0 in /Users/estherdokumensah/opt/anaconda3/lib/python3.8/site-packages (from spacy) (2.25.1)\n",
      "Requirement already satisfied: murmurhash<1.1.0,>=0.28.0 in /Users/estherdokumensah/opt/anaconda3/lib/python3.8/site-packages (from spacy) (1.0.6)\n",
      "Requirement already satisfied: spacy-legacy<3.1.0,>=3.0.8 in /Users/estherdokumensah/opt/anaconda3/lib/python3.8/site-packages (from spacy) (3.0.9)\n",
      "Requirement already satisfied: cymem<2.1.0,>=2.0.2 in /Users/estherdokumensah/opt/anaconda3/lib/python3.8/site-packages (from spacy) (2.0.6)\n",
      "Requirement already satisfied: pydantic!=1.8,!=1.8.1,<1.9.0,>=1.7.4 in /Users/estherdokumensah/opt/anaconda3/lib/python3.8/site-packages (from spacy) (1.8.2)\n",
      "Requirement already satisfied: wasabi<1.1.0,>=0.8.1 in /Users/estherdokumensah/opt/anaconda3/lib/python3.8/site-packages (from spacy) (0.9.1)\n",
      "Requirement already satisfied: setuptools in /Users/estherdokumensah/opt/anaconda3/lib/python3.8/site-packages (from spacy) (52.0.0.post20210125)\n",
      "Requirement already satisfied: catalogue<2.1.0,>=2.0.6 in /Users/estherdokumensah/opt/anaconda3/lib/python3.8/site-packages (from spacy) (2.0.7)\n",
      "Requirement already satisfied: packaging>=20.0 in /Users/estherdokumensah/opt/anaconda3/lib/python3.8/site-packages (from spacy) (20.9)\n",
      "Requirement already satisfied: preshed<3.1.0,>=3.0.2 in /Users/estherdokumensah/opt/anaconda3/lib/python3.8/site-packages (from spacy) (3.0.6)\n",
      "Requirement already satisfied: jinja2 in /Users/estherdokumensah/opt/anaconda3/lib/python3.8/site-packages (from spacy) (2.11.3)\n",
      "Requirement already satisfied: pathy>=0.3.5 in /Users/estherdokumensah/opt/anaconda3/lib/python3.8/site-packages (from spacy) (0.6.1)\n",
      "Requirement already satisfied: click<8.1.0 in /Users/estherdokumensah/opt/anaconda3/lib/python3.8/site-packages (from spacy) (7.1.2)\n",
      "Requirement already satisfied: typer<0.5.0,>=0.3.0 in /Users/estherdokumensah/opt/anaconda3/lib/python3.8/site-packages (from spacy) (0.4.1)\n",
      "Requirement already satisfied: srsly<3.0.0,>=2.4.1 in /Users/estherdokumensah/opt/anaconda3/lib/python3.8/site-packages (from spacy) (2.4.3)\n",
      "Requirement already satisfied: pyparsing>=2.0.2 in /Users/estherdokumensah/opt/anaconda3/lib/python3.8/site-packages (from packaging>=20.0->spacy) (2.4.7)\n",
      "Requirement already satisfied: smart-open<6.0.0,>=5.0.0 in /Users/estherdokumensah/opt/anaconda3/lib/python3.8/site-packages (from pathy>=0.3.5->spacy) (5.2.1)\n",
      "Requirement already satisfied: typing-extensions>=3.7.4.3 in /Users/estherdokumensah/opt/anaconda3/lib/python3.8/site-packages (from pydantic!=1.8,!=1.8.1,<1.9.0,>=1.7.4->spacy) (3.7.4.3)\n",
      "Requirement already satisfied: certifi>=2017.4.17 in /Users/estherdokumensah/opt/anaconda3/lib/python3.8/site-packages (from requests<3.0.0,>=2.13.0->spacy) (2020.12.5)\n",
      "Requirement already satisfied: idna<3,>=2.5 in /Users/estherdokumensah/opt/anaconda3/lib/python3.8/site-packages (from requests<3.0.0,>=2.13.0->spacy) (2.10)\n",
      "Requirement already satisfied: chardet<5,>=3.0.2 in /Users/estherdokumensah/opt/anaconda3/lib/python3.8/site-packages (from requests<3.0.0,>=2.13.0->spacy) (4.0.0)\n",
      "Requirement already satisfied: urllib3<1.27,>=1.21.1 in /Users/estherdokumensah/opt/anaconda3/lib/python3.8/site-packages (from requests<3.0.0,>=2.13.0->spacy) (1.26.4)\n",
      "Requirement already satisfied: MarkupSafe>=0.23 in /Users/estherdokumensah/opt/anaconda3/lib/python3.8/site-packages (from jinja2->spacy) (1.1.1)\n",
      "Note: you may need to restart the kernel to use updated packages.\n"
     ]
    }
   ],
   "source": [
    "pip install spacy"
   ]
  },
  {
   "cell_type": "code",
   "execution_count": 3,
   "id": "1a4a1bd2",
   "metadata": {},
   "outputs": [],
   "source": [
    "import snscrape.modules.twitter as sntwitter\n",
    "import pandas as pd\n",
    "import matplotlib.pyplot as plt\n",
    "import seaborn as sns\n",
    "import re\n",
    "import spacy\n",
    "from spacy import displacy\n",
    "from collections import Counter\n",
    "import en_core_web_sm\n",
    "nlp = en_core_web_sm.load()"
   ]
  },
  {
   "cell_type": "code",
   "execution_count": 4,
   "id": "f86e65f3",
   "metadata": {},
   "outputs": [
    {
     "name": "stderr",
     "output_type": "stream",
     "text": [
      "<ipython-input-4-766ec3dc3dc8>:11: FutureWarning: username is deprecated, use user.username instead\n",
      "  tweets_list.append([tweet.date, tweet.id, tweet.content, tweet.username,  tweet.likeCount])\n"
     ]
    }
   ],
   "source": [
    "# Setting variables to be used below\n",
    "maxTweets = 30000\n",
    "\n",
    "# Creating list to append tweet data to\n",
    "tweets_list = []\n",
    "\n",
    "# Using TwitterSearchScraper to scrape data and append tweets to list\n",
    "for i,tweet in enumerate(sntwitter.TwitterSearchScraper('horribleBosses since:2022-03-21 until:2022-03-30').get_items()):\n",
    "    if i>maxTweets:\n",
    "        break\n",
    "    tweets_list.append([tweet.date, tweet.id, tweet.content, tweet.username,  tweet.likeCount])"
   ]
  },
  {
   "cell_type": "code",
   "execution_count": 5,
   "id": "1bc84547",
   "metadata": {},
   "outputs": [
    {
     "data": {
      "text/html": [
       "<div>\n",
       "<style scoped>\n",
       "    .dataframe tbody tr th:only-of-type {\n",
       "        vertical-align: middle;\n",
       "    }\n",
       "\n",
       "    .dataframe tbody tr th {\n",
       "        vertical-align: top;\n",
       "    }\n",
       "\n",
       "    .dataframe thead th {\n",
       "        text-align: right;\n",
       "    }\n",
       "</style>\n",
       "<table border=\"1\" class=\"dataframe\">\n",
       "  <thead>\n",
       "    <tr style=\"text-align: right;\">\n",
       "      <th></th>\n",
       "      <th>datetime</th>\n",
       "      <th>tweet_Id</th>\n",
       "      <th>text</th>\n",
       "      <th>Username</th>\n",
       "      <th>Likes</th>\n",
       "    </tr>\n",
       "  </thead>\n",
       "  <tbody>\n",
       "    <tr>\n",
       "      <th>0</th>\n",
       "      <td>2022-03-29 23:40:05+00:00</td>\n",
       "      <td>1508952164353589249</td>\n",
       "      <td>My bosses idea of pep talk is by degrading cer...</td>\n",
       "      <td>Pottsy58</td>\n",
       "      <td>1</td>\n",
       "    </tr>\n",
       "    <tr>\n",
       "      <th>1</th>\n",
       "      <td>2022-03-29 23:39:49+00:00</td>\n",
       "      <td>1508952095692632064</td>\n",
       "      <td>@DrewNyingi Dem suppose drag am during that #h...</td>\n",
       "      <td>the_momentumm</td>\n",
       "      <td>0</td>\n",
       "    </tr>\n",
       "    <tr>\n",
       "      <th>2</th>\n",
       "      <td>2022-03-29 23:12:36+00:00</td>\n",
       "      <td>1508945248273137668</td>\n",
       "      <td>Addressing Nigerian Twitter's #HorribleBosses ...</td>\n",
       "      <td>BrandVideoPro</td>\n",
       "      <td>0</td>\n",
       "    </tr>\n",
       "    <tr>\n",
       "      <th>3</th>\n",
       "      <td>2022-03-29 21:14:01+00:00</td>\n",
       "      <td>1508915406920110087</td>\n",
       "      <td>📌\\nI'll go out on a limb to say we can trace e...</td>\n",
       "      <td>theTosin_A</td>\n",
       "      <td>3</td>\n",
       "    </tr>\n",
       "    <tr>\n",
       "      <th>4</th>\n",
       "      <td>2022-03-29 19:32:01+00:00</td>\n",
       "      <td>1508889734311030784</td>\n",
       "      <td>@ademichael2000 I know it is. It's the abuse I...</td>\n",
       "      <td>shaiontheprowl</td>\n",
       "      <td>1</td>\n",
       "    </tr>\n",
       "  </tbody>\n",
       "</table>\n",
       "</div>"
      ],
      "text/plain": [
       "                   datetime             tweet_Id  \\\n",
       "0 2022-03-29 23:40:05+00:00  1508952164353589249   \n",
       "1 2022-03-29 23:39:49+00:00  1508952095692632064   \n",
       "2 2022-03-29 23:12:36+00:00  1508945248273137668   \n",
       "3 2022-03-29 21:14:01+00:00  1508915406920110087   \n",
       "4 2022-03-29 19:32:01+00:00  1508889734311030784   \n",
       "\n",
       "                                                text        Username  Likes  \n",
       "0  My bosses idea of pep talk is by degrading cer...        Pottsy58      1  \n",
       "1  @DrewNyingi Dem suppose drag am during that #h...   the_momentumm      0  \n",
       "2  Addressing Nigerian Twitter's #HorribleBosses ...   BrandVideoPro      0  \n",
       "3  📌\\nI'll go out on a limb to say we can trace e...      theTosin_A      3  \n",
       "4  @ademichael2000 I know it is. It's the abuse I...  shaiontheprowl      1  "
      ]
     },
     "execution_count": 5,
     "metadata": {},
     "output_type": "execute_result"
    }
   ],
   "source": [
    "#Creating a dataframe from the tweets list above\n",
    "\n",
    "\n",
    "df = pd.DataFrame(tweets_list, columns=['datetime', 'tweet_Id', 'text', 'Username','Likes'])\n",
    "\n",
    "# Display first 5 entries from dataframe\n",
    "df.head()"
   ]
  },
  {
   "cell_type": "code",
   "execution_count": 6,
   "id": "f4f54f8a",
   "metadata": {},
   "outputs": [],
   "source": [
    "# write the dataframe into a csv \n",
    "df.to_csv('tweets.csv')"
   ]
  },
  {
   "cell_type": "code",
   "execution_count": 7,
   "id": "9f5667f3",
   "metadata": {},
   "outputs": [],
   "source": [
    "# read data into a dataframe\n",
    "data =pd.read_csv('tweets.csv')"
   ]
  },
  {
   "cell_type": "code",
   "execution_count": 8,
   "id": "1bbea896",
   "metadata": {},
   "outputs": [
    {
     "data": {
      "text/plain": [
       "(14590, 6)"
      ]
     },
     "execution_count": 8,
     "metadata": {},
     "output_type": "execute_result"
    }
   ],
   "source": [
    "data.shape"
   ]
  },
  {
   "cell_type": "code",
   "execution_count": 9,
   "id": "632750a1",
   "metadata": {},
   "outputs": [
    {
     "data": {
      "text/plain": [
       "Tweet(url='https://twitter.com/forrestsaysit/status/1505699666201128960', date=datetime.datetime(2022, 3, 21, 0, 15, 49, tzinfo=datetime.timezone.utc), content='@mouIinrough Low key… @HorribleBosses 2 was great.', renderedContent='@mouIinrough Low key… @HorribleBosses 2 was great.', id=1505699666201128960, user=User(username='forrestsaysit', id=26882219, displayname='Forrest 📍Indianapolis', description='I sling code, and overthink everything... Constantly trying to be the best version of myself.', rawDescription='I sling code, and overthink everything... Constantly trying to be the best version of myself.', descriptionUrls=None, verified=False, created=datetime.datetime(2009, 3, 26, 23, 11, 41, tzinfo=datetime.timezone.utc), followersCount=107, friendsCount=56, statusesCount=2435, favouritesCount=358, listedCount=1, mediaCount=222, location='United States, Earth', protected=False, linkUrl='http://www.forrestsmietanski.com', linkTcourl='https://t.co/zSp1C6hcpj', profileImageUrl='https://pbs.twimg.com/profile_images/1299060470037479427/uPbt0TgL_normal.jpg', profileBannerUrl=None, label=None), replyCount=0, retweetCount=0, likeCount=0, quoteCount=0, conversationId=1417557071885656067, lang='en', source='<a href=\"http://twitter.com/download/iphone\" rel=\"nofollow\">Twitter for iPhone</a>', sourceUrl='http://twitter.com/download/iphone', sourceLabel='Twitter for iPhone', outlinks=None, tcooutlinks=None, media=None, retweetedTweet=None, quotedTweet=None, inReplyToTweetId=1417557071885656067, inReplyToUser=User(username='mouIinrough', id=2746897776, displayname='milena', description=None, rawDescription=None, descriptionUrls=None, verified=None, created=None, followersCount=None, friendsCount=None, statusesCount=None, favouritesCount=None, listedCount=None, mediaCount=None, location=None, protected=None, linkUrl=None, linkTcourl=None, profileImageUrl=None, profileBannerUrl=None, label=None), mentionedUsers=[User(username='mouIinrough', id=2746897776, displayname='milena', description=None, rawDescription=None, descriptionUrls=None, verified=None, created=None, followersCount=None, friendsCount=None, statusesCount=None, favouritesCount=None, listedCount=None, mediaCount=None, location=None, protected=None, linkUrl=None, linkTcourl=None, profileImageUrl=None, profileBannerUrl=None, label=None), User(username='HorribleBosses', id=2584712154, displayname='Horrible Bosses 2', description=None, rawDescription=None, descriptionUrls=None, verified=None, created=None, followersCount=None, friendsCount=None, statusesCount=None, favouritesCount=None, listedCount=None, mediaCount=None, location=None, protected=None, linkUrl=None, linkTcourl=None, profileImageUrl=None, profileBannerUrl=None, label=None)], coordinates=None, place=None, hashtags=None, cashtags=None)"
      ]
     },
     "execution_count": 9,
     "metadata": {},
     "output_type": "execute_result"
    }
   ],
   "source": [
    "tweet"
   ]
  },
  {
   "cell_type": "code",
   "execution_count": 10,
   "id": "c6400d69",
   "metadata": {},
   "outputs": [
    {
     "data": {
      "text/html": [
       "<div>\n",
       "<style scoped>\n",
       "    .dataframe tbody tr th:only-of-type {\n",
       "        vertical-align: middle;\n",
       "    }\n",
       "\n",
       "    .dataframe tbody tr th {\n",
       "        vertical-align: top;\n",
       "    }\n",
       "\n",
       "    .dataframe thead th {\n",
       "        text-align: right;\n",
       "    }\n",
       "</style>\n",
       "<table border=\"1\" class=\"dataframe\">\n",
       "  <thead>\n",
       "    <tr style=\"text-align: right;\">\n",
       "      <th></th>\n",
       "      <th>Unnamed: 0</th>\n",
       "      <th>datetime</th>\n",
       "      <th>tweet_Id</th>\n",
       "      <th>text</th>\n",
       "      <th>Username</th>\n",
       "      <th>Likes</th>\n",
       "    </tr>\n",
       "  </thead>\n",
       "  <tbody>\n",
       "    <tr>\n",
       "      <th>0</th>\n",
       "      <td>0</td>\n",
       "      <td>2022-03-29 23:40:05+00:00</td>\n",
       "      <td>1508952164353589249</td>\n",
       "      <td>My bosses idea of pep talk is by degrading cer...</td>\n",
       "      <td>Pottsy58</td>\n",
       "      <td>1</td>\n",
       "    </tr>\n",
       "    <tr>\n",
       "      <th>1</th>\n",
       "      <td>1</td>\n",
       "      <td>2022-03-29 23:39:49+00:00</td>\n",
       "      <td>1508952095692632064</td>\n",
       "      <td>@DrewNyingi Dem suppose drag am during that #h...</td>\n",
       "      <td>the_momentumm</td>\n",
       "      <td>0</td>\n",
       "    </tr>\n",
       "    <tr>\n",
       "      <th>2</th>\n",
       "      <td>2</td>\n",
       "      <td>2022-03-29 23:12:36+00:00</td>\n",
       "      <td>1508945248273137668</td>\n",
       "      <td>Addressing Nigerian Twitter's #HorribleBosses ...</td>\n",
       "      <td>BrandVideoPro</td>\n",
       "      <td>0</td>\n",
       "    </tr>\n",
       "    <tr>\n",
       "      <th>3</th>\n",
       "      <td>3</td>\n",
       "      <td>2022-03-29 21:14:01+00:00</td>\n",
       "      <td>1508915406920110087</td>\n",
       "      <td>📌\\nI'll go out on a limb to say we can trace e...</td>\n",
       "      <td>theTosin_A</td>\n",
       "      <td>3</td>\n",
       "    </tr>\n",
       "    <tr>\n",
       "      <th>4</th>\n",
       "      <td>4</td>\n",
       "      <td>2022-03-29 19:32:01+00:00</td>\n",
       "      <td>1508889734311030784</td>\n",
       "      <td>@ademichael2000 I know it is. It's the abuse I...</td>\n",
       "      <td>shaiontheprowl</td>\n",
       "      <td>1</td>\n",
       "    </tr>\n",
       "  </tbody>\n",
       "</table>\n",
       "</div>"
      ],
      "text/plain": [
       "   Unnamed: 0                   datetime             tweet_Id  \\\n",
       "0           0  2022-03-29 23:40:05+00:00  1508952164353589249   \n",
       "1           1  2022-03-29 23:39:49+00:00  1508952095692632064   \n",
       "2           2  2022-03-29 23:12:36+00:00  1508945248273137668   \n",
       "3           3  2022-03-29 21:14:01+00:00  1508915406920110087   \n",
       "4           4  2022-03-29 19:32:01+00:00  1508889734311030784   \n",
       "\n",
       "                                                text        Username  Likes  \n",
       "0  My bosses idea of pep talk is by degrading cer...        Pottsy58      1  \n",
       "1  @DrewNyingi Dem suppose drag am during that #h...   the_momentumm      0  \n",
       "2  Addressing Nigerian Twitter's #HorribleBosses ...   BrandVideoPro      0  \n",
       "3  📌\\nI'll go out on a limb to say we can trace e...      theTosin_A      3  \n",
       "4  @ademichael2000 I know it is. It's the abuse I...  shaiontheprowl      1  "
      ]
     },
     "execution_count": 10,
     "metadata": {},
     "output_type": "execute_result"
    }
   ],
   "source": [
    "#view the first few lines of the dataframe\n",
    "data.head()"
   ]
  },
  {
   "cell_type": "code",
   "execution_count": 11,
   "id": "e23f9142",
   "metadata": {},
   "outputs": [
    {
     "data": {
      "text/plain": [
       "0    My bosses idea of pep talk is by degrading cer...\n",
       "1    @DrewNyingi Dem suppose drag am during that #h...\n",
       "2    Addressing Nigerian Twitter's #HorribleBosses ...\n",
       "3    📌\\nI'll go out on a limb to say we can trace e...\n",
       "4    @ademichael2000 I know it is. It's the abuse I...\n",
       "5    @KibaInuWorld Can u cooperate #kiba user in #H...\n",
       "6    Everyone seems to know what employers should d...\n",
       "7    Even if we stand our ground and elect a youth....\n",
       "8    Tomorrow, our champions will be discussing the...\n",
       "Name: text, dtype: object"
      ]
     },
     "execution_count": 11,
     "metadata": {},
     "output_type": "execute_result"
    }
   ],
   "source": [
    "#view first 9 rows of data\n",
    "data.text[0:9]"
   ]
  },
  {
   "cell_type": "code",
   "execution_count": 12,
   "id": "da3b0612",
   "metadata": {},
   "outputs": [
    {
     "data": {
      "text/plain": [
       "datetime\n",
       "2022-03-21 00:15:49+00:00    1\n",
       "2022-03-21 17:51:32+00:00    1\n",
       "2022-03-21 18:16:05+00:00    2\n",
       "2022-03-21 18:16:20+00:00    1\n",
       "2022-03-21 18:16:24+00:00    1\n",
       "                            ..\n",
       "2022-03-29 19:32:01+00:00    1\n",
       "2022-03-29 21:14:01+00:00    1\n",
       "2022-03-29 23:12:36+00:00    1\n",
       "2022-03-29 23:39:49+00:00    1\n",
       "2022-03-29 23:40:05+00:00    1\n",
       "Length: 12559, dtype: int64"
      ]
     },
     "execution_count": 12,
     "metadata": {},
     "output_type": "execute_result"
    }
   ],
   "source": [
    "#group counts of tweets by date\n",
    "dt=data.groupby('datetime').size()\n",
    "dt"
   ]
  },
  {
   "cell_type": "code",
   "execution_count": null,
   "id": "cebac20b",
   "metadata": {},
   "outputs": [],
   "source": [
    "#convert the datetime to date\n",
    "data.datetime= pd.to_datetime(data.datetime).dt.date"
   ]
  },
  {
   "cell_type": "code",
   "execution_count": null,
   "id": "073208d5",
   "metadata": {},
   "outputs": [],
   "source": [
    "# view the data frame again\n",
    "data.head()"
   ]
  },
  {
   "cell_type": "code",
   "execution_count": null,
   "id": "e506580a",
   "metadata": {},
   "outputs": [],
   "source": [
    "#group counts of tweets by date\n",
    "dt=data.groupby('datetime').size()\n",
    "dt"
   ]
  },
  {
   "cell_type": "code",
   "execution_count": null,
   "id": "763e5c8e",
   "metadata": {},
   "outputs": [],
   "source": [
    "#plot linechat of tweets by day\n",
    "sns.lineplot(err_style=\"bars\",\n",
    "\t\t\tdata = dt);"
   ]
  },
  {
   "cell_type": "code",
   "execution_count": null,
   "id": "c3f0577d",
   "metadata": {},
   "outputs": [],
   "source": [
    "#clean the tweets and add a new column of the clean data\n",
    "def cleaner(tweet):\n",
    "    tweet = re.sub(\"@[A-Za-z0-9]+\",\"\",tweet) #Remove @ sign\n",
    "    tweet = re.sub(r\"(?:\\@|http?\\://|https?\\://|www)\\S+\", \"\", tweet) #Remove http links\n",
    "    tweet = \" \".join(tweet.split())\n",
    "    #tweet = ''.join(c for c in tweet if c not in emoji.UNICODE_EMOJI['en']) #Remove Emojis\n",
    "    tweet = tweet.replace(\"#\", \"\").replace(\"_\", \" \") #Remove hashtag sign but keep the text\n",
    "    return tweet\n",
    "data['clean'] = data['text'].map(lambda x: cleaner(x))"
   ]
  },
  {
   "cell_type": "code",
   "execution_count": null,
   "id": "7e0713ff",
   "metadata": {},
   "outputs": [],
   "source": [
    "#view the new data frame\n",
    "data.head()"
   ]
  },
  {
   "cell_type": "code",
   "execution_count": null,
   "id": "5551c8d5",
   "metadata": {},
   "outputs": [],
   "source": [
    "pip install wordCloud"
   ]
  },
  {
   "cell_type": "code",
   "execution_count": null,
   "id": "8335c348",
   "metadata": {},
   "outputs": [],
   "source": [
    "#create a wordcloud to view the most used words in the clean tweets\n",
    "\n",
    "all_words = ' '.join([text for text in data['clean']])\n",
    "from wordcloud import WordCloud\n",
    "wordcloud = WordCloud(background_color = 'white', width=800, height=500, random_state=21, max_font_size=110).generate(all_words)\n",
    "\n",
    "plt.figure( figsize=(20,10) )\n",
    "plt.imshow(wordcloud)\n",
    "plt.axis(\"off\")\n",
    "plt.show()"
   ]
  },
  {
   "cell_type": "code",
   "execution_count": null,
   "id": "902b0fc9",
   "metadata": {},
   "outputs": [],
   "source": [
    "# extract tokens using spacy library\n",
    "tokenizer = nlp.tokenizer\n",
    "tokens = tokenizer(''.join(str(data.clean.tolist())))"
   ]
  },
  {
   "cell_type": "code",
   "execution_count": null,
   "id": "929a25f3",
   "metadata": {},
   "outputs": [],
   "source": [
    "#show tokens and entity \n",
    "doc = nlp(tokens)\n",
    "\n",
    "\n",
    "for ent in doc.ents:\n",
    "    print(ent.text,  ent.label_)"
   ]
  },
  {
   "cell_type": "code",
   "execution_count": null,
   "id": "5efdff41",
   "metadata": {},
   "outputs": [],
   "source": [
    "#count the tokens for most occuring words\n",
    "items = [x.text for x in tokens.ents]\n",
    "Counter(items).most_common(20)"
   ]
  },
  {
   "cell_type": "code",
   "execution_count": null,
   "id": "b0f1af66",
   "metadata": {},
   "outputs": [],
   "source": [
    "# find nationalites and religious\n",
    "norp_list = []\n",
    "for ent in tokens.ents:\n",
    "    if ent.label_ == 'NORP':\n",
    "        norp_list.append(ent.text)\n",
    "        \n",
    "norp_counts = Counter(norp_list).most_common(20)\n",
    "df_norp = pd.DataFrame(norp_counts, columns =['text', 'count'])"
   ]
  },
  {
   "cell_type": "code",
   "execution_count": null,
   "id": "f309e532",
   "metadata": {},
   "outputs": [],
   "source": [
    "#plot \n",
    "df_norp.plot.barh(x='text', y='count', title=\"Nationalities, Religious, and Political Groups\", figsize=(10,8)).invert_yaxis()"
   ]
  },
  {
   "cell_type": "code",
   "execution_count": null,
   "id": "5d4cabb6",
   "metadata": {},
   "outputs": [],
   "source": [
    "#view names of people\n",
    "person_list = []\n",
    "for ent in tokens.ents:\n",
    "    if ent.label_ == 'PERSON':\n",
    "        person_list.append(ent.text)\n",
    "        \n",
    "person_counts = Counter(person_list).most_common(20)\n",
    "df_person = pd.DataFrame(person_counts, columns =['text', 'count'])"
   ]
  },
  {
   "cell_type": "code",
   "execution_count": null,
   "id": "46a7704a",
   "metadata": {},
   "outputs": [],
   "source": [
    "#plot \n",
    "df_person.plot.barh(x='text', y='count', title=\"Names of People\", figsize=(10,8)).invert_yaxis()"
   ]
  },
  {
   "cell_type": "code",
   "execution_count": null,
   "id": "6a3ef7c2",
   "metadata": {},
   "outputs": [],
   "source": [
    "gpe_list = []\n",
    "for ent in tokens.ents:\n",
    "    if ent.label_ == 'ORG':\n",
    "        gpe_list.append(ent.text)\n",
    "        \n",
    "gpe_counts = Counter(gpe_list).most_common(20)\n",
    "df_gpe = pd.DataFrame(gpe_counts, columns =['text', 'count'])\n",
    "df_gpe"
   ]
  },
  {
   "cell_type": "code",
   "execution_count": null,
   "id": "286642d4",
   "metadata": {},
   "outputs": [],
   "source": [
    "#using spacy displacy function to view entities\n",
    "doc = nlp(tokens)\n",
    "displacy.serve(doc, style=\"ent\")"
   ]
  },
  {
   "cell_type": "code",
   "execution_count": null,
   "id": "519d3ce8",
   "metadata": {},
   "outputs": [],
   "source": []
  }
 ],
 "metadata": {
  "kernelspec": {
   "display_name": "Python 3",
   "language": "python",
   "name": "python3"
  },
  "language_info": {
   "codemirror_mode": {
    "name": "ipython",
    "version": 3
   },
   "file_extension": ".py",
   "mimetype": "text/x-python",
   "name": "python",
   "nbconvert_exporter": "python",
   "pygments_lexer": "ipython3",
   "version": "3.8.8"
  }
 },
 "nbformat": 4,
 "nbformat_minor": 5
}
